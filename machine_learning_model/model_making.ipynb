{
 "cells": [
  {
   "cell_type": "code",
   "execution_count": 21,
   "metadata": {},
   "outputs": [],
   "source": [
    "import torch\n",
    "from torch import nn\n",
    "from torch.utils.data import DataLoader, Dataset\n"
   ]
  },
  {
   "cell_type": "code",
   "execution_count": 22,
   "metadata": {},
   "outputs": [
    {
     "data": {
      "text/html": [
       "<div>\n",
       "<style scoped>\n",
       "    .dataframe tbody tr th:only-of-type {\n",
       "        vertical-align: middle;\n",
       "    }\n",
       "\n",
       "    .dataframe tbody tr th {\n",
       "        vertical-align: top;\n",
       "    }\n",
       "\n",
       "    .dataframe thead th {\n",
       "        text-align: right;\n",
       "    }\n",
       "</style>\n",
       "<table border=\"1\" class=\"dataframe\">\n",
       "  <thead>\n",
       "    <tr style=\"text-align: right;\">\n",
       "      <th></th>\n",
       "      <th>Date &amp; Time</th>\n",
       "      <th>Sea Surface Temp (°C)</th>\n",
       "      <th>Air Temp (°C)</th>\n",
       "      <th>Wind Speed (km/h)</th>\n",
       "      <th>Wave Height (m)</th>\n",
       "      <th>UV Index</th>\n",
       "      <th>Activity Level</th>\n",
       "    </tr>\n",
       "  </thead>\n",
       "  <tbody>\n",
       "    <tr>\n",
       "      <th>0</th>\n",
       "      <td>2023-10-01 00:00:00</td>\n",
       "      <td>27.0</td>\n",
       "      <td>22.0</td>\n",
       "      <td>4.2</td>\n",
       "      <td>0.49</td>\n",
       "      <td>0.0</td>\n",
       "      <td>Low</td>\n",
       "    </tr>\n",
       "    <tr>\n",
       "      <th>1</th>\n",
       "      <td>2023-10-01 01:00:00</td>\n",
       "      <td>27.1</td>\n",
       "      <td>25.1</td>\n",
       "      <td>4.9</td>\n",
       "      <td>0.24</td>\n",
       "      <td>0.0</td>\n",
       "      <td>Low</td>\n",
       "    </tr>\n",
       "    <tr>\n",
       "      <th>2</th>\n",
       "      <td>2023-10-01 02:00:00</td>\n",
       "      <td>27.2</td>\n",
       "      <td>28.0</td>\n",
       "      <td>5.9</td>\n",
       "      <td>0.49</td>\n",
       "      <td>0.0</td>\n",
       "      <td>Low</td>\n",
       "    </tr>\n",
       "    <tr>\n",
       "      <th>3</th>\n",
       "      <td>2023-10-01 03:00:00</td>\n",
       "      <td>27.4</td>\n",
       "      <td>30.5</td>\n",
       "      <td>6.1</td>\n",
       "      <td>0.43</td>\n",
       "      <td>0.0</td>\n",
       "      <td>Low</td>\n",
       "    </tr>\n",
       "    <tr>\n",
       "      <th>4</th>\n",
       "      <td>2023-10-01 04:00:00</td>\n",
       "      <td>27.4</td>\n",
       "      <td>32.4</td>\n",
       "      <td>3.7</td>\n",
       "      <td>0.33</td>\n",
       "      <td>0.0</td>\n",
       "      <td>Low</td>\n",
       "    </tr>\n",
       "  </tbody>\n",
       "</table>\n",
       "</div>"
      ],
      "text/plain": [
       "           Date & Time  Sea Surface Temp (°C)  Air Temp (°C)  \\\n",
       "0  2023-10-01 00:00:00                   27.0           22.0   \n",
       "1  2023-10-01 01:00:00                   27.1           25.1   \n",
       "2  2023-10-01 02:00:00                   27.2           28.0   \n",
       "3  2023-10-01 03:00:00                   27.4           30.5   \n",
       "4  2023-10-01 04:00:00                   27.4           32.4   \n",
       "\n",
       "   Wind Speed (km/h)  Wave Height (m)  UV Index Activity Level  \n",
       "0                4.2             0.49       0.0            Low  \n",
       "1                4.9             0.24       0.0            Low  \n",
       "2                5.9             0.49       0.0            Low  \n",
       "3                6.1             0.43       0.0            Low  \n",
       "4                3.7             0.33       0.0            Low  "
      ]
     },
     "execution_count": 22,
     "metadata": {},
     "output_type": "execute_result"
    }
   ],
   "source": [
    "import pandas as pd\n",
    "import numpy as np\n",
    "\n",
    "data = pd.read_csv('historical_beach_data.csv')\n",
    "data.head()"
   ]
  },
  {
   "cell_type": "code",
   "execution_count": 23,
   "metadata": {},
   "outputs": [
    {
     "name": "stdout",
     "output_type": "stream",
     "text": [
      "<class 'pandas.core.frame.DataFrame'>\n",
      "RangeIndex: 384 entries, 0 to 383\n",
      "Data columns (total 7 columns):\n",
      " #   Column                 Non-Null Count  Dtype  \n",
      "---  ------                 --------------  -----  \n",
      " 0   Date & Time            384 non-null    object \n",
      " 1   Sea Surface Temp (°C)  384 non-null    float64\n",
      " 2   Air Temp (°C)          384 non-null    float64\n",
      " 3   Wind Speed (km/h)      384 non-null    float64\n",
      " 4   Wave Height (m)        384 non-null    float64\n",
      " 5   UV Index               384 non-null    float64\n",
      " 6   Activity Level         384 non-null    object \n",
      "dtypes: float64(5), object(2)\n",
      "memory usage: 21.1+ KB\n"
     ]
    }
   ],
   "source": [
    "data.info()"
   ]
  },
  {
   "cell_type": "code",
   "execution_count": 24,
   "metadata": {},
   "outputs": [
    {
     "data": {
      "text/html": [
       "<div>\n",
       "<style scoped>\n",
       "    .dataframe tbody tr th:only-of-type {\n",
       "        vertical-align: middle;\n",
       "    }\n",
       "\n",
       "    .dataframe tbody tr th {\n",
       "        vertical-align: top;\n",
       "    }\n",
       "\n",
       "    .dataframe thead th {\n",
       "        text-align: right;\n",
       "    }\n",
       "</style>\n",
       "<table border=\"1\" class=\"dataframe\">\n",
       "  <thead>\n",
       "    <tr style=\"text-align: right;\">\n",
       "      <th></th>\n",
       "      <th>Sea Surface Temp (°C)</th>\n",
       "      <th>Air Temp (°C)</th>\n",
       "      <th>Wind Speed (km/h)</th>\n",
       "      <th>Wave Height (m)</th>\n",
       "      <th>UV Index</th>\n",
       "    </tr>\n",
       "  </thead>\n",
       "  <tbody>\n",
       "    <tr>\n",
       "      <th>count</th>\n",
       "      <td>384.000000</td>\n",
       "      <td>384.000000</td>\n",
       "      <td>384.000000</td>\n",
       "      <td>384.000000</td>\n",
       "      <td>384.000000</td>\n",
       "    </tr>\n",
       "    <tr>\n",
       "      <th>mean</th>\n",
       "      <td>27.000000</td>\n",
       "      <td>22.000000</td>\n",
       "      <td>5.025521</td>\n",
       "      <td>0.296432</td>\n",
       "      <td>3.213802</td>\n",
       "    </tr>\n",
       "    <tr>\n",
       "      <th>std</th>\n",
       "      <td>0.352833</td>\n",
       "      <td>8.502053</td>\n",
       "      <td>1.867092</td>\n",
       "      <td>0.094764</td>\n",
       "      <td>3.960278</td>\n",
       "    </tr>\n",
       "    <tr>\n",
       "      <th>min</th>\n",
       "      <td>26.500000</td>\n",
       "      <td>10.000000</td>\n",
       "      <td>0.000000</td>\n",
       "      <td>0.030000</td>\n",
       "      <td>0.000000</td>\n",
       "    </tr>\n",
       "    <tr>\n",
       "      <th>25%</th>\n",
       "      <td>26.600000</td>\n",
       "      <td>13.500000</td>\n",
       "      <td>3.900000</td>\n",
       "      <td>0.240000</td>\n",
       "      <td>0.000000</td>\n",
       "    </tr>\n",
       "    <tr>\n",
       "      <th>50%</th>\n",
       "      <td>27.000000</td>\n",
       "      <td>22.000000</td>\n",
       "      <td>4.900000</td>\n",
       "      <td>0.290000</td>\n",
       "      <td>0.000000</td>\n",
       "    </tr>\n",
       "    <tr>\n",
       "      <th>75%</th>\n",
       "      <td>27.400000</td>\n",
       "      <td>30.500000</td>\n",
       "      <td>6.200000</td>\n",
       "      <td>0.362500</td>\n",
       "      <td>6.825000</td>\n",
       "    </tr>\n",
       "    <tr>\n",
       "      <th>max</th>\n",
       "      <td>27.500000</td>\n",
       "      <td>34.000000</td>\n",
       "      <td>11.500000</td>\n",
       "      <td>0.560000</td>\n",
       "      <td>13.400000</td>\n",
       "    </tr>\n",
       "  </tbody>\n",
       "</table>\n",
       "</div>"
      ],
      "text/plain": [
       "       Sea Surface Temp (°C)  Air Temp (°C)  Wind Speed (km/h)  \\\n",
       "count             384.000000     384.000000         384.000000   \n",
       "mean               27.000000      22.000000           5.025521   \n",
       "std                 0.352833       8.502053           1.867092   \n",
       "min                26.500000      10.000000           0.000000   \n",
       "25%                26.600000      13.500000           3.900000   \n",
       "50%                27.000000      22.000000           4.900000   \n",
       "75%                27.400000      30.500000           6.200000   \n",
       "max                27.500000      34.000000          11.500000   \n",
       "\n",
       "       Wave Height (m)    UV Index  \n",
       "count       384.000000  384.000000  \n",
       "mean          0.296432    3.213802  \n",
       "std           0.094764    3.960278  \n",
       "min           0.030000    0.000000  \n",
       "25%           0.240000    0.000000  \n",
       "50%           0.290000    0.000000  \n",
       "75%           0.362500    6.825000  \n",
       "max           0.560000   13.400000  "
      ]
     },
     "execution_count": 24,
     "metadata": {},
     "output_type": "execute_result"
    }
   ],
   "source": [
    "data.describe()"
   ]
  },
  {
   "cell_type": "code",
   "execution_count": 25,
   "metadata": {},
   "outputs": [
    {
     "data": {
      "text/plain": [
       "array(['Low', 'Medium', 'High'], dtype=object)"
      ]
     },
     "execution_count": 25,
     "metadata": {},
     "output_type": "execute_result"
    }
   ],
   "source": [
    "data['Activity Level'].unique()"
   ]
  },
  {
   "cell_type": "code",
   "execution_count": 26,
   "metadata": {},
   "outputs": [],
   "source": [
    "from sklearn.preprocessing import LabelEncoder\n",
    "le = LabelEncoder()\n",
    "data['Activity Level'] = le.fit_transform(data['Activity Level'])\n"
   ]
  },
  {
   "cell_type": "code",
   "execution_count": 27,
   "metadata": {},
   "outputs": [
    {
     "data": {
      "text/plain": [
       "array([1, 2, 0])"
      ]
     },
     "execution_count": 27,
     "metadata": {},
     "output_type": "execute_result"
    }
   ],
   "source": [
    "data['Activity Level'].unique()"
   ]
  },
  {
   "cell_type": "code",
   "execution_count": 28,
   "metadata": {},
   "outputs": [
    {
     "data": {
      "text/html": [
       "<div>\n",
       "<style scoped>\n",
       "    .dataframe tbody tr th:only-of-type {\n",
       "        vertical-align: middle;\n",
       "    }\n",
       "\n",
       "    .dataframe tbody tr th {\n",
       "        vertical-align: top;\n",
       "    }\n",
       "\n",
       "    .dataframe thead th {\n",
       "        text-align: right;\n",
       "    }\n",
       "</style>\n",
       "<table border=\"1\" class=\"dataframe\">\n",
       "  <thead>\n",
       "    <tr style=\"text-align: right;\">\n",
       "      <th></th>\n",
       "      <th>Date &amp; Time</th>\n",
       "      <th>Sea Surface Temp (°C)</th>\n",
       "      <th>Air Temp (°C)</th>\n",
       "      <th>Wind Speed (km/h)</th>\n",
       "      <th>Wave Height (m)</th>\n",
       "      <th>UV Index</th>\n",
       "      <th>Activity Level</th>\n",
       "    </tr>\n",
       "  </thead>\n",
       "  <tbody>\n",
       "    <tr>\n",
       "      <th>0</th>\n",
       "      <td>2023-10-01 00:00:00</td>\n",
       "      <td>27.0</td>\n",
       "      <td>22.0</td>\n",
       "      <td>4.2</td>\n",
       "      <td>0.49</td>\n",
       "      <td>0.0</td>\n",
       "      <td>1</td>\n",
       "    </tr>\n",
       "    <tr>\n",
       "      <th>1</th>\n",
       "      <td>2023-10-01 01:00:00</td>\n",
       "      <td>27.1</td>\n",
       "      <td>25.1</td>\n",
       "      <td>4.9</td>\n",
       "      <td>0.24</td>\n",
       "      <td>0.0</td>\n",
       "      <td>1</td>\n",
       "    </tr>\n",
       "    <tr>\n",
       "      <th>2</th>\n",
       "      <td>2023-10-01 02:00:00</td>\n",
       "      <td>27.2</td>\n",
       "      <td>28.0</td>\n",
       "      <td>5.9</td>\n",
       "      <td>0.49</td>\n",
       "      <td>0.0</td>\n",
       "      <td>1</td>\n",
       "    </tr>\n",
       "    <tr>\n",
       "      <th>3</th>\n",
       "      <td>2023-10-01 03:00:00</td>\n",
       "      <td>27.4</td>\n",
       "      <td>30.5</td>\n",
       "      <td>6.1</td>\n",
       "      <td>0.43</td>\n",
       "      <td>0.0</td>\n",
       "      <td>1</td>\n",
       "    </tr>\n",
       "    <tr>\n",
       "      <th>4</th>\n",
       "      <td>2023-10-01 04:00:00</td>\n",
       "      <td>27.4</td>\n",
       "      <td>32.4</td>\n",
       "      <td>3.7</td>\n",
       "      <td>0.33</td>\n",
       "      <td>0.0</td>\n",
       "      <td>1</td>\n",
       "    </tr>\n",
       "  </tbody>\n",
       "</table>\n",
       "</div>"
      ],
      "text/plain": [
       "           Date & Time  Sea Surface Temp (°C)  Air Temp (°C)  \\\n",
       "0  2023-10-01 00:00:00                   27.0           22.0   \n",
       "1  2023-10-01 01:00:00                   27.1           25.1   \n",
       "2  2023-10-01 02:00:00                   27.2           28.0   \n",
       "3  2023-10-01 03:00:00                   27.4           30.5   \n",
       "4  2023-10-01 04:00:00                   27.4           32.4   \n",
       "\n",
       "   Wind Speed (km/h)  Wave Height (m)  UV Index  Activity Level  \n",
       "0                4.2             0.49       0.0               1  \n",
       "1                4.9             0.24       0.0               1  \n",
       "2                5.9             0.49       0.0               1  \n",
       "3                6.1             0.43       0.0               1  \n",
       "4                3.7             0.33       0.0               1  "
      ]
     },
     "execution_count": 28,
     "metadata": {},
     "output_type": "execute_result"
    }
   ],
   "source": [
    "data.head()"
   ]
  },
  {
   "cell_type": "code",
   "execution_count": 29,
   "metadata": {},
   "outputs": [
    {
     "data": {
      "text/plain": [
       "{'High': 0, 'Low': 1, 'Medium': 2}"
      ]
     },
     "execution_count": 29,
     "metadata": {},
     "output_type": "execute_result"
    }
   ],
   "source": [
    "label_mapping  = dict(zip(le.classes_, le.transform(le.classes_)))\n",
    "label_mapping"
   ]
  },
  {
   "cell_type": "code",
   "execution_count": 30,
   "metadata": {},
   "outputs": [],
   "source": [
    "data['Date & Time'] = pd.to_datetime(data['Date & Time'])\n",
    "\n",
    "data['Hour'] = data['Date & Time'].dt.hour\n",
    "data['dayOfweek'] = data['Date & Time'].dt.dayofweek"
   ]
  },
  {
   "cell_type": "code",
   "execution_count": 31,
   "metadata": {},
   "outputs": [],
   "source": [
    "features = ['Sea Surface Temp (°C)', 'Air Temp (°C)', 'Wind Speed (km/h)', 'Wave Height (m)', 'UV Index', 'Hour', 'dayOfweek']\n",
    "X = data[features]\n",
    "y = data['Activity Level']"
   ]
  },
  {
   "cell_type": "code",
   "execution_count": 32,
   "metadata": {},
   "outputs": [],
   "source": [
    "from sklearn.model_selection import train_test_split\n",
    "\n",
    "X_train, X_test, y_train, y_test = train_test_split(X, y, test_size=0.2, random_state=42)"
   ]
  },
  {
   "cell_type": "code",
   "execution_count": 33,
   "metadata": {},
   "outputs": [],
   "source": [
    "from sklearn.preprocessing import StandardScaler\n",
    "\n",
    "scaler = StandardScaler()\n",
    "X_train_scaled = scaler.fit_transform(X_train)\n",
    "\n",
    "X_test_scaled = scaler.transform(X_test)"
   ]
  },
  {
   "cell_type": "markdown",
   "metadata": {},
   "source": [
    "## Creating pytorch datasets and dataloaders"
   ]
  },
  {
   "cell_type": "code",
   "execution_count": 34,
   "metadata": {},
   "outputs": [],
   "source": [
    "class BeachActivityDataset(Dataset):\n",
    "  def __init__(self, features, labels):\n",
    "    self.X = torch.tensor(features, dtype = torch.float32)\n",
    "    self.y = torch.tensor(labels.values, dtype = torch.float32)\n",
    "\n",
    "  def __len__(self):\n",
    "    return len(self.X)\n",
    "  \n",
    "  def __getitem__(self, idx):\n",
    "    return self.X[idx], self.y[idx]\n",
    "  "
   ]
  },
  {
   "cell_type": "code",
   "execution_count": 35,
   "metadata": {},
   "outputs": [],
   "source": [
    "train_dataset  = BeachActivityDataset(X_train_scaled, y_train)\n",
    "test_dataset = BeachActivityDataset(X_test_scaled, y_test)"
   ]
  },
  {
   "cell_type": "code",
   "execution_count": 36,
   "metadata": {},
   "outputs": [],
   "source": [
    "batch_size = 32\n",
    "\n",
    "train_loader = DataLoader(train_dataset, batch_size=batch_size, shuffle=True)\n",
    "test_loader = DataLoader(test_dataset, batch_size=batch_size, shuffle=False)"
   ]
  },
  {
   "cell_type": "code",
   "execution_count": 37,
   "metadata": {},
   "outputs": [],
   "source": [
    "import torch.nn.functional as F"
   ]
  },
  {
   "cell_type": "code",
   "execution_count": 38,
   "metadata": {},
   "outputs": [],
   "source": [
    "class ActivityLevelClassifier(nn.Module):\n",
    "    def __init__(self, input_dim, hidden_dim, output_dim):\n",
    "        super(ActivityLevelClassifier, self).__init__()\n",
    "        self.fc1 = nn.Linear(input_dim, hidden_dim)\n",
    "        self.bn1 = nn.BatchNorm1d(hidden_dim)\n",
    "        self.fc2 = nn.Linear(hidden_dim, hidden_dim)\n",
    "        self.bn2 = nn.BatchNorm1d(hidden_dim)\n",
    "        self.fc3 = nn.Linear(hidden_dim, output_dim)\n",
    "        self.dropout = nn.Dropout(p=0.5)  \n",
    "\n",
    "    def forward(self, x):\n",
    "        x = F.relu(self.bn1(self.fc1(x)))\n",
    "        x = self.dropout(x)  \n",
    "        x = F.relu(self.bn2(self.fc2(x)))\n",
    "        x = self.dropout(x)\n",
    "        x = self.fc3(x)\n",
    "        return x\n"
   ]
  },
  {
   "cell_type": "code",
   "execution_count": 39,
   "metadata": {},
   "outputs": [],
   "source": [
    "input_dim = X_train_scaled.shape[1]\n",
    "hiddin_dim = 64\n",
    "output_dim = len(y.unique())\n",
    "\n",
    "model = ActivityLevelClassifier(input_dim, hiddin_dim, output_dim)"
   ]
  },
  {
   "cell_type": "markdown",
   "metadata": {},
   "source": [
    "### loss function"
   ]
  },
  {
   "cell_type": "code",
   "execution_count": 40,
   "metadata": {},
   "outputs": [],
   "source": [
    "criterion = nn.CrossEntropyLoss()"
   ]
  },
  {
   "cell_type": "code",
   "execution_count": 41,
   "metadata": {},
   "outputs": [],
   "source": [
    "optimizer = torch.optim.Adam(model.parameters(), lr=0.001)"
   ]
  },
  {
   "cell_type": "code",
   "execution_count": 42,
   "metadata": {},
   "outputs": [
    {
     "name": "stdout",
     "output_type": "stream",
     "text": [
      "Epoch [1/50], Loss: 1.1859\n",
      "Epoch [5/50], Loss: 0.7617\n",
      "Epoch [10/50], Loss: 0.6583\n",
      "Epoch [15/50], Loss: 0.5531\n",
      "Epoch [20/50], Loss: 0.5821\n",
      "Epoch [25/50], Loss: 0.5225\n",
      "Epoch [30/50], Loss: 0.5353\n",
      "Epoch [35/50], Loss: 0.4814\n",
      "Epoch [40/50], Loss: 0.4374\n",
      "Epoch [45/50], Loss: 0.4169\n",
      "Epoch [50/50], Loss: 0.4088\n"
     ]
    }
   ],
   "source": [
    "num_epochs = 50\n",
    "\n",
    "for epoch in range(num_epochs):\n",
    "  model.train()\n",
    "  epoch_loss = 0.0\n",
    "  for X_batch, y_batch in train_loader:\n",
    "    optimizer.zero_grad()\n",
    "    y_pred = model(X_batch)\n",
    "    loss = criterion(y_pred, y_batch.long())\n",
    "    loss.backward()\n",
    "    optimizer.step()\n",
    "    epoch_loss += loss.item()\n",
    "\n",
    "  avg_loss = epoch_loss / len(train_loader)\n",
    "\n",
    "  if (epoch + 1) % 5 == 0 or epoch == 0:\n",
    "     print(f'Epoch [{epoch+1}/{num_epochs}], Loss: {avg_loss:.4f}')"
   ]
  },
  {
   "cell_type": "code",
   "execution_count": 43,
   "metadata": {},
   "outputs": [
    {
     "data": {
      "text/plain": [
       "ActivityLevelClassifier(\n",
       "  (fc1): Linear(in_features=7, out_features=64, bias=True)\n",
       "  (bn1): BatchNorm1d(64, eps=1e-05, momentum=0.1, affine=True, track_running_stats=True)\n",
       "  (fc2): Linear(in_features=64, out_features=64, bias=True)\n",
       "  (bn2): BatchNorm1d(64, eps=1e-05, momentum=0.1, affine=True, track_running_stats=True)\n",
       "  (fc3): Linear(in_features=64, out_features=3, bias=True)\n",
       "  (dropout): Dropout(p=0.5, inplace=False)\n",
       ")"
      ]
     },
     "execution_count": 43,
     "metadata": {},
     "output_type": "execute_result"
    }
   ],
   "source": [
    "model.eval()"
   ]
  },
  {
   "cell_type": "code",
   "execution_count": 44,
   "metadata": {},
   "outputs": [
    {
     "name": "stdout",
     "output_type": "stream",
     "text": [
      "Test Accuracy: 88.31%\n",
      "              precision    recall  f1-score   support\n",
      "\n",
      "        High       0.81      0.95      0.88        22\n",
      "         Low       0.94      0.89      0.92        37\n",
      "      Medium       0.88      0.78      0.82        18\n",
      "\n",
      "    accuracy                           0.88        77\n",
      "   macro avg       0.88      0.87      0.87        77\n",
      "weighted avg       0.89      0.88      0.88        77\n",
      "\n"
     ]
    }
   ],
   "source": [
    "from sklearn.metrics import classification_report, confusion_matrix, accuracy_score\n",
    "\n",
    "all_preds = []\n",
    "all_labels = []\n",
    "\n",
    "with torch.no_grad():  # Disable gradient computation\n",
    "    for X_batch, y_batch in test_loader:\n",
    "        outputs = model(X_batch)\n",
    "        _, preds = torch.max(outputs, 1)\n",
    "        all_preds.extend(preds.numpy())\n",
    "        all_labels.extend(y_batch.numpy())\n",
    "\n",
    "# Compute accuracy\n",
    "accuracy = accuracy_score(all_labels, all_preds)\n",
    "print(f'Test Accuracy: {accuracy * 100:.2f}%')\n",
    "\n",
    "# Print classification report\n",
    "target_names = ['High', 'Low', 'Medium']  # Adjust based on your label encoding\n",
    "print(classification_report(all_labels, all_preds, target_names=target_names))\n"
   ]
  },
  {
   "cell_type": "code",
   "execution_count": 45,
   "metadata": {},
   "outputs": [
    {
     "data": {
      "image/png": "[encoded data removed]",
      "text/plain": [
       "<Figure size 800x600 with 2 Axes>"
      ]
     },
     "metadata": {},
     "output_type": "display_data"
    }
   ],
   "source": [
    "import seaborn as sns\n",
    "import matplotlib.pyplot as plt\n",
    "\n",
    "# Generate confusion matrix\n",
    "cm = confusion_matrix(all_labels, all_preds)\n",
    "\n",
    "# Plot confusion matrix\n",
    "plt.figure(figsize=(8,6))\n",
    "sns.heatmap(cm, annot=True, fmt='d', xticklabels=target_names, yticklabels=target_names, cmap='Blues')\n",
    "plt.ylabel('Actual')\n",
    "plt.xlabel('Predicted')\n",
    "plt.title('Confusion Matrix')\n",
    "plt.show()\n"
   ]
  },
  {
   "cell_type": "code",
   "execution_count": 46,
   "metadata": {},
   "outputs": [
    {
     "name": "stdout",
     "output_type": "stream",
     "text": [
      "Columns in new_sample_df: ['Sea Surface Temp (°C)', 'Air Temp (°C)', 'Wind Speed (km/h)', 'Wave Height (m)', 'UV Index', 'Hour', 'dayOfweek']\n",
      "Predicted Activity Level: Low\n"
     ]
    }
   ],
   "source": [
    "new_sample = {\n",
    "    'Sea Surface Temp (°C)': 28.0,\n",
    "    'Air Temp (°C)': 30.0,\n",
    "    'Wind Speed (km/h)': 8.0,\n",
    "    'Wave Height (m)': 0.5,\n",
    "    'UV Index': 7.0,\n",
    "    'Hour': 14,\n",
    "    'dayOfweek': 5  # Corrected key to match the DataFrame\n",
    "}\n",
    "\n",
    "# Convert to DataFrame\n",
    "new_sample_df = pd.DataFrame([new_sample])\n",
    "\n",
    "# Verify the columns\n",
    "print(\"Columns in new_sample_df:\", new_sample_df.columns.tolist())\n",
    "\n",
    "# Select and scale features\n",
    "new_sample_features = new_sample_df[features]\n",
    "new_sample_scaled = scaler.transform(new_sample_features)\n",
    "\n",
    "# Convert to tensor\n",
    "new_sample_tensor = torch.tensor(new_sample_scaled, dtype=torch.float32)\n",
    "\n",
    "model.eval()\n",
    "with torch.no_grad():\n",
    "    output = model(new_sample_tensor)\n",
    "    _, predicted_class = torch.max(output, 1)\n",
    "    predicted_label = le.inverse_transform(predicted_class.numpy())\n",
    "    print(f'Predicted Activity Level: {predicted_label[0]}')"
   ]
  },
  {
   "cell_type": "code",
   "execution_count": 47,
   "metadata": {},
   "outputs": [],
   "source": [
    "torch.save(model, \"complete_beach_activity_model.pth\")"
   ]
  },
  {
   "cell_type": "markdown",
   "metadata": {},
   "source": [
    "### Testing the model"
   ]
  },
  {
   "cell_type": "code",
   "execution_count": 48,
   "metadata": {},
   "outputs": [],
   "source": [
    "model2 = torch.load(\"complete_beach_activity_model.pth\")"
   ]
  },
  {
   "cell_type": "code",
   "execution_count": 49,
   "metadata": {},
   "outputs": [
    {
     "data": {
      "text/plain": [
       "ActivityLevelClassifier(\n",
       "  (fc1): Linear(in_features=7, out_features=64, bias=True)\n",
       "  (bn1): BatchNorm1d(64, eps=1e-05, momentum=0.1, affine=True, track_running_stats=True)\n",
       "  (fc2): Linear(in_features=64, out_features=64, bias=True)\n",
       "  (bn2): BatchNorm1d(64, eps=1e-05, momentum=0.1, affine=True, track_running_stats=True)\n",
       "  (fc3): Linear(in_features=64, out_features=3, bias=True)\n",
       "  (dropout): Dropout(p=0.5, inplace=False)\n",
       ")"
      ]
     },
     "execution_count": 49,
     "metadata": {},
     "output_type": "execute_result"
    }
   ],
   "source": [
    "model2.eval()"
   ]
  },
  {
   "cell_type": "code",
   "execution_count": 50,
   "metadata": {},
   "outputs": [
    {
     "name": "stdout",
     "output_type": "stream",
     "text": [
      "Columns in new_sample_df: ['Sea Surface Temp (°C)', 'Air Temp (°C)', 'Wind Speed (km/h)', 'Wave Height (m)', 'UV Index', 'Hour', 'dayOfweek']\n",
      "Predicted Activity Level: Medium\n"
     ]
    }
   ],
   "source": [
    "new_sample = {\n",
    "    'Sea Surface Temp (°C)': 23.0,\n",
    "    'Air Temp (°C)': 25.0,\n",
    "    'Wind Speed (km/h)': 5.0,\n",
    "    'Wave Height (m)': 1.0,\n",
    "    'UV Index': 10.0,\n",
    "    'Hour': 19,\n",
    "    'dayOfweek': 3  # Corrected key to match the DataFrame\n",
    "}\n",
    "\n",
    "# Convert to DataFrame\n",
    "new_sample_df = pd.DataFrame([new_sample])\n",
    "\n",
    "# Verify the columns\n",
    "print(\"Columns in new_sample_df:\", new_sample_df.columns.tolist())\n",
    "\n",
    "# Select and scale features\n",
    "new_sample_features = new_sample_df[features]\n",
    "new_sample_scaled = scaler.transform(new_sample_features)\n",
    "\n",
    "# Convert to tensor\n",
    "new_sample_tensor = torch.tensor(new_sample_scaled, dtype=torch.float32)\n",
    "\n",
    "with torch.no_grad():\n",
    "    output = model2(new_sample_tensor)\n",
    "    _, predicted_class = torch.max(output, 1)\n",
    "    predicted_label = le.inverse_transform(predicted_class.numpy())\n",
    "    print(f'Predicted Activity Level: {predicted_label[0]}')"
   ]
  },
  {
   "cell_type": "code",
   "execution_count": 51,
   "metadata": {},
   "outputs": [
    {
     "name": "stdout",
     "output_type": "stream",
     "text": [
      "Columns in new_sample_df: ['Sea Surface Temp (°C)', 'Air Temp (°C)', 'Wind Speed (km/h)', 'Wave Height (m)', 'UV Index', 'Hour', 'dayOfweek']\n",
      "Predicted Activity Level: Low\n"
     ]
    }
   ],
   "source": [
    "new_sample = {\n",
    "    'Sea Surface Temp (°C)': 28.0,\n",
    "    'Air Temp (°C)': 30.0,\n",
    "    'Wind Speed (km/h)': 8.0,\n",
    "    'Wave Height (m)': 0.5,\n",
    "    'UV Index': 7.0,\n",
    "    'Hour': 14,\n",
    "    'dayOfweek': 5  # Corrected key to match the DataFrame\n",
    "}\n",
    "\n",
    "# Convert to DataFrame\n",
    "new_sample_df = pd.DataFrame([new_sample])\n",
    "\n",
    "# Verify the columns\n",
    "print(\"Columns in new_sample_df:\", new_sample_df.columns.tolist())\n",
    "\n",
    "# Select and scale features\n",
    "new_sample_features = new_sample_df[features]\n",
    "new_sample_scaled = scaler.transform(new_sample_features)\n",
    "\n",
    "# Convert to tensor\n",
    "new_sample_tensor = torch.tensor(new_sample_scaled, dtype=torch.float32)\n",
    "\n",
    "model.eval()\n",
    "with torch.no_grad():\n",
    "    output = model(new_sample_tensor)\n",
    "    _, predicted_class = torch.max(output, 1)\n",
    "    predicted_label = le.inverse_transform(predicted_class.numpy())\n",
    "    print(f'Predicted Activity Level: {predicted_label[0]}')"
   ]
  }
 ],
 "metadata": {
  "kernelspec": {
   "display_name": "Python 3",
   "language": "python",
   "name": "python3"
  },
  "language_info": {
   "codemirror_mode": {
    "name": "ipython",
    "version": 3
   },
   "file_extension": ".py",
   "mimetype": "text/x-python",
   "name": "python",
   "nbconvert_exporter": "python",
   "pygments_lexer": "ipython3",
   "version": "3.11.3"
  }
 },
 "nbformat": 4,
 "nbformat_minor": 2
}
